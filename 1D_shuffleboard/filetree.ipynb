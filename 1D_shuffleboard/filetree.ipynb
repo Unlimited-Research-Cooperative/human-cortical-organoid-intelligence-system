{
 "cells": [
  {
   "cell_type": "code",
   "execution_count": 1,
   "id": "98de4bbb-b650-4111-a599-6712759781a7",
   "metadata": {},
   "outputs": [
    {
     "name": "stdout",
     "output_type": "stream",
     "text": [
      "./\n",
      "    E_game_to_optical.py\n",
      "    F_optical_out.py\n",
      "    D_shuffleboard.py\n",
      "    filetree.ipynb\n",
      "    B_signals_to_features.py\n",
      "    A_incoming_signals.py\n",
      "    mappings.py\n",
      "    C_features_to_game.py\n",
      "    .ipynb_checkpoints/\n",
      "        A_incoming_signals-checkpoint.py\n",
      "        E_game_to_optical-checkpoint.py\n",
      "        C_features_to_game-checkpoint.py\n",
      "        filetree-checkpoint.ipynb\n",
      "        D_shuffleboard-checkpoint.py\n",
      "        F_optical_out-checkpoint.py\n",
      "        B_signals_to_features-checkpoint.py\n",
      "        mappings-checkpoint.py\n",
      "    old/\n",
      "        game_state.py\n",
      "        game_logic.py\n",
      "        neural_interface.py\n",
      "        control_system.py\n",
      "        .ipynb_checkpoints/\n",
      "            control_system-checkpoint.py\n",
      "            neural_interface-checkpoint.py\n",
      "            game_state-checkpoint.py\n",
      "            game_logic-checkpoint.py\n"
     ]
    }
   ],
   "source": [
    "import os\n",
    "\n",
    "def print_file_tree(start_path):\n",
    "    for root, dirs, files in os.walk(start_path):\n",
    "        # Determine the depth of the current directory\n",
    "        level = root.replace(start_path, '').count(os.sep)\n",
    "\n",
    "        # Properly indent the directory name\n",
    "        indent = ' ' * 4 * level\n",
    "        print(f\"{indent}{os.path.basename(root)}/\")\n",
    "\n",
    "        # Indentation for the files in the directory\n",
    "        subindent = ' ' * 4 * (level + 1)\n",
    "\n",
    "        for f in files:\n",
    "            print(f\"{subindent}{f}\")\n",
    "\n",
    "# Run the function for the current directory\n",
    "print_file_tree(\".\")"
   ]
  },
  {
   "cell_type": "code",
   "execution_count": null,
   "id": "dc512135-264b-4525-a04b-326642c8f988",
   "metadata": {},
   "outputs": [],
   "source": []
  }
 ],
 "metadata": {
  "kernelspec": {
   "display_name": "Python 3 (ipykernel)",
   "language": "python",
   "name": "python3"
  },
  "language_info": {
   "codemirror_mode": {
    "name": "ipython",
    "version": 3
   },
   "file_extension": ".py",
   "mimetype": "text/x-python",
   "name": "python",
   "nbconvert_exporter": "python",
   "pygments_lexer": "ipython3",
   "version": "3.10.12"
  }
 },
 "nbformat": 4,
 "nbformat_minor": 5
}
