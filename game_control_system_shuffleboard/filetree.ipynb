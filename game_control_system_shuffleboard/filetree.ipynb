{
 "cells": [
  {
   "cell_type": "code",
   "execution_count": 1,
   "id": "98de4bbb-b650-4111-a599-6712759781a7",
   "metadata": {},
   "outputs": [
    {
     "name": "stdout",
     "output_type": "stream",
     "text": [
      "./\n",
      "    Untitled.ipynb\n",
      "    control_system.py\n",
      "    game_state.py\n",
      "    game_logic.py\n",
      "    game.py\n",
      "    neural_interface.py\n",
      "    .ipynb_checkpoints/\n",
      "        game_state-checkpoint.py\n",
      "        game-checkpoint.py\n",
      "        control_system-checkpoint.py\n",
      "        game_logic-checkpoint.py\n",
      "        neural_interface-checkpoint.py\n",
      "        Untitled-checkpoint.ipynb\n"
     ]
    }
   ],
   "source": [
    "import os\n",
    "\n",
    "def print_file_tree(start_path):\n",
    "    for root, dirs, files in os.walk(start_path):\n",
    "        # Determine the depth of the current directory\n",
    "        level = root.replace(start_path, '').count(os.sep)\n",
    "\n",
    "        # Properly indent the directory name\n",
    "        indent = ' ' * 4 * level\n",
    "        print(f\"{indent}{os.path.basename(root)}/\")\n",
    "\n",
    "        # Indentation for the files in the directory\n",
    "        subindent = ' ' * 4 * (level + 1)\n",
    "\n",
    "        for f in files:\n",
    "            print(f\"{subindent}{f}\")\n",
    "\n",
    "# Run the function for the current directory\n",
    "print_file_tree(\".\")"
   ]
  },
  {
   "cell_type": "code",
   "execution_count": null,
   "id": "dc512135-264b-4525-a04b-326642c8f988",
   "metadata": {},
   "outputs": [],
   "source": []
  }
 ],
 "metadata": {
  "kernelspec": {
   "display_name": "Python 3 (ipykernel)",
   "language": "python",
   "name": "python3"
  },
  "language_info": {
   "codemirror_mode": {
    "name": "ipython",
    "version": 3
   },
   "file_extension": ".py",
   "mimetype": "text/x-python",
   "name": "python",
   "nbconvert_exporter": "python",
   "pygments_lexer": "ipython3",
   "version": "3.10.12"
  }
 },
 "nbformat": 4,
 "nbformat_minor": 5
}
