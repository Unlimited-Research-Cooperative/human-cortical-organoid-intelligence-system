{
 "cells": [
  {
   "cell_type": "code",
   "execution_count": 1,
   "id": "a9cb2209-23e5-4df1-8ed1-4499ca9396c2",
   "metadata": {},
   "outputs": [
    {
     "name": "stdout",
     "output_type": "stream",
     "text": [
      "Added 4 entries to .gitignore.\n"
     ]
    }
   ],
   "source": [
    "import os\n",
    "\n",
    "# Initialize an empty list to collect .ipynb_checkpoints paths\n",
    "checkpoints = []\n",
    "\n",
    "# Walk through the current directory\n",
    "for root, dirs, files in os.walk('.'):\n",
    "    if '.ipynb_checkpoints' in dirs:\n",
    "        # Compute the relative path to .ipynb_checkpoints and add it to the list\n",
    "        relative_path = os.path.relpath(os.path.join(root, '.ipynb_checkpoints'), '.')\n",
    "        checkpoints.append(relative_path + '/')\n",
    "\n",
    "# Append the found paths to .gitignore, with a comment explaining what these lines are for\n",
    "with open('.gitignore', 'a') as gitignore:\n",
    "    gitignore.write('\\n# Ignore IPython notebook checkpoints\\n')\n",
    "    for checkpoint in checkpoints:\n",
    "        gitignore.write(checkpoint + '\\n')\n",
    "\n",
    "print(f\"Added {len(checkpoints)} entries to .gitignore.\")\n"
   ]
  },
  {
   "cell_type": "code",
   "execution_count": null,
   "id": "f76a964c-ad69-4268-8301-16ef1ebd789e",
   "metadata": {},
   "outputs": [],
   "source": []
  }
 ],
 "metadata": {
  "kernelspec": {
   "display_name": "Python 3 (ipykernel)",
   "language": "python",
   "name": "python3"
  },
  "language_info": {
   "codemirror_mode": {
    "name": "ipython",
    "version": 3
   },
   "file_extension": ".py",
   "mimetype": "text/x-python",
   "name": "python",
   "nbconvert_exporter": "python",
   "pygments_lexer": "ipython3",
   "version": "3.10.12"
  }
 },
 "nbformat": 4,
 "nbformat_minor": 5
}
