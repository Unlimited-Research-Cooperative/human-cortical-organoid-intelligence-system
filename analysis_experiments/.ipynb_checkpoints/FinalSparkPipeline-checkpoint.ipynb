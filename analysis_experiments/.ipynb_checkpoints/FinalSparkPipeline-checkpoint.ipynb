{
 "cells": [
  {
   "cell_type": "markdown",
   "id": "059ca748-8b91-472d-ab6e-e8bd8342ea8c",
   "metadata": {},
   "source": [
    "### Final Spark Pipeline"
   ]
  },
  {
   "cell_type": "code",
   "execution_count": 1,
   "id": "9f422e38-f4a9-404e-868a-61c2a70af92d",
   "metadata": {},
   "outputs": [
    {
     "data": {
      "text/plain": [
       "'\\nconn = psycopg2.connect(database=\"fsexp\",\\n                        host=\"172.30.2.184\",\\n                        user=\"postgres\",\\n                        password=\"6Fd9d8P7KixkPA\",\\n                        port=\"5432\")\\ncursor = conn.cursor()\\ntokenRead = \"4voZq4pLkjT4rpAvsJMZgtc6xNrgWhXplnxfk9BycfBC-wpBDyvAxaBisrzaSBdB1ILXsq19l4bptacrgPzpmQ==\"\\nclienRead = InfluxDBClient(url=\"http://spikedb.alpvision.com:8086\", token=tokenRead, timeout=60_000)\\nquery_api = clienRead.query_api()'"
      ]
     },
     "execution_count": 1,
     "metadata": {},
     "output_type": "execute_result"
    }
   ],
   "source": [
    "import socket\n",
    "import numpy as np\n",
    "import time\n",
    "import psycopg2\n",
    "from influxdb_client import InfluxDBClient\n",
    "import warnings\n",
    "from influxdb_client.client.warnings import MissingPivotFunction\n",
    "warnings.simplefilter(\"ignore\", MissingPivotFunction)\n",
    "from datetime import datetime, timedelta\n",
    "from tqdm import tqdm\n",
    "import matplotlib.pyplot as plt\n",
    "import matplotlib\n",
    "matplotlib.rc_file_defaults()\n",
    "def figure(name, *args, **kwargs):\n",
    "    plt.close(name)\n",
    "    return plt.figure(name, *args, **kwargs)\n",
    "from matplotlib.colors import ListedColormap\n",
    "colorblindmap = ListedColormap(['#006BA4', '#FF800E', '#ABABAB', '#595959', '#5F9ED1', '#C85200', '#898989', '#A2C8EC', '#FFBC79', '#CFCFCF'])\n",
    "\n",
    "'''\n",
    "conn = psycopg2.connect(database=\"fsexp\",\n",
    "                        host=\"172.30.2.184\",\n",
    "                        user=\"postgres\",\n",
    "                        password=\"6Fd9d8P7KixkPA\",\n",
    "                        port=\"5432\")\n",
    "cursor = conn.cursor()\n",
    "tokenRead = \"4voZq4pLkjT4rpAvsJMZgtc6xNrgWhXplnxfk9BycfBC-wpBDyvAxaBisrzaSBdB1ILXsq19l4bptacrgPzpmQ==\"\n",
    "clienRead = InfluxDBClient(url=\"http://spikedb.alpvision.com:8086\", token=tokenRead, timeout=60_000)\n",
    "query_api = clienRead.query_api()'''"
   ]
  },
  {
   "cell_type": "markdown",
   "id": "abc7bc0d-9e07-479a-8fd6-c8c518aafe55",
   "metadata": {},
   "source": [
    "### Loading Raw data and saving in numpy array"
   ]
  },
  {
   "cell_type": "code",
   "execution_count": 2,
   "id": "600bff8c-fa35-4b77-9800-7ce47edab9e1",
   "metadata": {},
   "outputs": [
    {
     "ename": "Exception",
     "evalue": "Something is wrong with file size : should have a whole number of data blocks",
     "output_type": "error",
     "traceback": [
      "\u001b[0;31m---------------------------------------------------------------------------\u001b[0m",
      "\u001b[0;31mException\u001b[0m                                 Traceback (most recent call last)",
      "Cell \u001b[0;32mIn[2], line 49\u001b[0m\n\u001b[1;32m     46\u001b[0m filename \u001b[38;5;241m=\u001b[39m dirPath \u001b[38;5;241m+\u001b[39m \u001b[38;5;124m'\u001b[39m\u001b[38;5;124m/exp_240213_151732.rhs\u001b[39m\u001b[38;5;124m'\u001b[39m\n\u001b[1;32m     48\u001b[0m offset_trigger_ms \u001b[38;5;241m=\u001b[39m \u001b[38;5;241m5\u001b[39m\n\u001b[0;32m---> 49\u001b[0m r \u001b[38;5;241m=\u001b[39m \u001b[43mraw_data_100ms\u001b[49m\u001b[43m(\u001b[49m\u001b[43mfilename\u001b[49m\u001b[43m,\u001b[49m\u001b[43m \u001b[49m\u001b[43moffset_trigger_ms\u001b[49m\u001b[43m)\u001b[49m\n\u001b[1;32m     50\u001b[0m \u001b[38;5;28;01mif\u001b[39;00m r \u001b[38;5;129;01mis\u001b[39;00m \u001b[38;5;129;01mnot\u001b[39;00m \u001b[38;5;28;01mNone\u001b[39;00m:\n\u001b[1;32m     51\u001b[0m     savename \u001b[38;5;241m=\u001b[39m \u001b[38;5;124mf\u001b[39m\u001b[38;5;124m'\u001b[39m\u001b[38;5;132;01m{\u001b[39;00mdirPath\u001b[38;5;132;01m}\u001b[39;00m\u001b[38;5;124m/processed_exp_240213_151732_\u001b[39m\u001b[38;5;132;01m{\u001b[39;00moffset_trigger_ms\u001b[38;5;132;01m}\u001b[39;00m\u001b[38;5;124m.npz\u001b[39m\u001b[38;5;124m'\u001b[39m\n",
      "Cell \u001b[0;32mIn[2], line 9\u001b[0m, in \u001b[0;36mraw_data_100ms\u001b[0;34m(filename, offset_ms)\u001b[0m\n\u001b[1;32m      7\u001b[0m nb_sample \u001b[38;5;241m=\u001b[39m \u001b[38;5;241m3000\u001b[39m \u001b[38;5;66;03m# 100ms equivalent at 30kHz sample rate\u001b[39;00m\n\u001b[1;32m      8\u001b[0m offset \u001b[38;5;241m=\u001b[39m \u001b[38;5;241m30\u001b[39m \u001b[38;5;241m*\u001b[39m offset_ms\n\u001b[0;32m----> 9\u001b[0m rawdatas \u001b[38;5;241m=\u001b[39m \u001b[43mread_data\u001b[49m\u001b[43m(\u001b[49m\u001b[43mfilename\u001b[49m\u001b[43m)\u001b[49m\n\u001b[1;32m     11\u001b[0m \u001b[38;5;66;03m# Check if 'amplifier_data' has 32 channels\u001b[39;00m\n\u001b[1;32m     12\u001b[0m \u001b[38;5;28;01mif\u001b[39;00m rawdatas[\u001b[38;5;124m'\u001b[39m\u001b[38;5;124mamplifier_data\u001b[39m\u001b[38;5;124m'\u001b[39m]\u001b[38;5;241m.\u001b[39mshape[\u001b[38;5;241m0\u001b[39m] \u001b[38;5;241m!=\u001b[39m \u001b[38;5;241m32\u001b[39m:\n",
      "File \u001b[0;32m~/MySSD/JupyterProjects/AAA_projects/UnlimitedResearchCooperative/Synthetic_Intelligence_Labs/human-cortical-organoid-signal-analysis/analysis_experiments/load_intan_rhs_format.py:51\u001b[0m, in \u001b[0;36mread_data\u001b[0;34m(filename)\u001b[0m\n\u001b[1;32m     48\u001b[0m     data_present \u001b[38;5;241m=\u001b[39m \u001b[38;5;28;01mTrue\u001b[39;00m\n\u001b[1;32m     50\u001b[0m \u001b[38;5;28;01mif\u001b[39;00m bytes_remaining \u001b[38;5;241m%\u001b[39m bytes_per_block \u001b[38;5;241m!=\u001b[39m \u001b[38;5;241m0\u001b[39m:\n\u001b[0;32m---> 51\u001b[0m     \u001b[38;5;28;01mraise\u001b[39;00m \u001b[38;5;167;01mException\u001b[39;00m(\u001b[38;5;124m'\u001b[39m\u001b[38;5;124mSomething is wrong with file size : should have a whole number of data blocks\u001b[39m\u001b[38;5;124m'\u001b[39m)\n\u001b[1;32m     53\u001b[0m num_data_blocks \u001b[38;5;241m=\u001b[39m \u001b[38;5;28mint\u001b[39m(bytes_remaining \u001b[38;5;241m/\u001b[39m bytes_per_block)\n\u001b[1;32m     55\u001b[0m num_amplifier_samples \u001b[38;5;241m=\u001b[39m \u001b[38;5;241m128\u001b[39m \u001b[38;5;241m*\u001b[39m num_data_blocks\n",
      "\u001b[0;31mException\u001b[0m: Something is wrong with file size : should have a whole number of data blocks"
     ]
    }
   ],
   "source": [
    "from load_intan_rhs_format import read_data\n",
    "import numpy as np\n",
    "import os\n",
    "import glob\n",
    "\n",
    "def raw_data_100ms(filename: str, offset_ms: int):\n",
    "    nb_sample = 3000 # 100ms equivalent at 30kHz sample rate\n",
    "    offset = 30 * offset_ms\n",
    "    rawdatas = read_data(filename)\n",
    "    \n",
    "    # Check if 'amplifier_data' has 32 channels\n",
    "    if rawdatas['amplifier_data'].shape[0] != 32:\n",
    "        print(f\"Warning: Expected 32 channels, but found {rawdatas['amplifier_data'].shape[0]}\")\n",
    "        return None\n",
    "    \n",
    "    digin = rawdatas['spike_triggers']\n",
    "    triggers_raw = np.argwhere(digin)\n",
    "    raw_amp = rawdatas['amplifier_data']\n",
    "    triggers = [triggers_raw[0, :]]\n",
    "    for i in range(triggers_raw.shape[0]-1):\n",
    "        t1 = triggers_raw[i, 0]\n",
    "        t2 = triggers_raw[i + 1, 0]\n",
    "        if t2 - t1 > 100:\n",
    "            triggers.append(triggers_raw[i + 1, :])\n",
    "    \n",
    "    raws100ms_trigger = {}\n",
    "    for i in range(8):\n",
    "        raws100ms_trigger[i] = []\n",
    "    for trigger in triggers:\n",
    "        ind = trigger[0]\n",
    "        if ind + nb_sample < raw_amp.shape[1]:\n",
    "            raws100ms_trigger[int(trigger[0])].append(raw_amp[:, ind+offset : ind + nb_sample + offset])\n",
    "    for i in range(8):\n",
    "        raws100ms_trigger[i] = np.array(raws100ms_trigger[i])\n",
    "    return raws100ms_trigger\n",
    "\n",
    "def save_raw_data(raws: dict, filename: str):\n",
    "    np.savez_compressed(filename, **{f't{i}': raws[i] for i in range(8)})\n",
    "\n",
    "def load_raw_data(filename: str):\n",
    "    loaded = np.load(filename)\n",
    "    raws = {i: loaded[f't{i}'] for i in range(8)}\n",
    "    return raws\n",
    "\n",
    "dirPath = 'experiment_data'\n",
    "filename = dirPath + '/exp_240213_151732.rhs'\n",
    "\n",
    "offset_trigger_ms = 5\n",
    "r = raw_data_100ms(filename, offset_trigger_ms)\n",
    "if r is not None:\n",
    "    savename = f'{dirPath}/processed_exp_240213_151732_{offset_trigger_ms}.npz'\n",
    "    save_raw_data(r, savename)\n",
    "    print(f\"Data saved to {savename}\")"
   ]
  },
  {
   "cell_type": "code",
   "execution_count": null,
   "id": "8745aeef-6285-439e-a410-5d03d7ddeeb2",
   "metadata": {},
   "outputs": [],
   "source": [
    "import matplotlib\n",
    "import matplotlib.pyplot as plt\n",
    "import numpy as np\n",
    "import matplotlib.pyplot\n",
    "matplotlib.rc_file_defaults()\n",
    "\n",
    "\n",
    "def float_to_rgb(val: float, start_rgb: np.array, end_rgb: np.array):\n",
    "    r_diff = end_rgb[0] - start_rgb[0]\n",
    "    g_diff = end_rgb[1] - start_rgb[1]\n",
    "    b_diff = end_rgb[2] - start_rgb[2]\n",
    "    return [start_rgb[0] + val * r_diff, start_rgb[1] + val * g_diff, start_rgb[2] + val * b_diff]\n",
    "    \n",
    "def subplot_raw_map(ax: plt.Axes, raw1: np.array, raw2: np.array, title: str):\n",
    "    if raw1.shape[1] != raw2.shape[1]:\n",
    "        print(f'Error shape raw1/raw2')\n",
    "    sampling = 30\n",
    "    nb_points = raw1.shape[1] // sampling\n",
    "    raw_map = np.ones((raw1.shape[0] + 1 + raw2.shape[0], nb_points, 3))\n",
    "    MAXAMP = 100\n",
    "    r1 = raw1/MAXAMP\n",
    "    r1[r1 > 1.0] = 1.0\n",
    "    r1[r1 < -1.0] = -1.0\n",
    "    r2 = raw2/MAXAMP\n",
    "    r2[r2 > 1.0] = 1.0\n",
    "    r2[r2 < -1.0] = -1.0\n",
    "    \n",
    "    for i in range(raw1.shape[0]):\n",
    "        for j in range(nb_points):\n",
    "            rs = r1[i,j*sampling:j*sampling+sampling]\n",
    "            rmax = np.abs(np.amax(rs))\n",
    "            rmin = np.abs(np.amin(rs))\n",
    "            if rmax > rmin:\n",
    "                raw_map[i, j, :] = float_to_rgb(rmax, [1.0, 1.0, 1.0], [1.0, 0.0, 0.0])\n",
    "            else:\n",
    "                raw_map[i, j, :] = float_to_rgb(rmin, [1.0, 1.0, 1.0], [0.0, 0.0, 1.0])\n",
    "\n",
    "    # line\n",
    "    raw_map[raw1.shape[0], :, :] = 0.0\n",
    "    \n",
    "    for i in range(raw2.shape[0]):\n",
    "        for j in range(nb_points):\n",
    "            rs = r2[i,j*sampling:j*sampling+sampling]\n",
    "            rmax = np.abs(np.amax(rs))\n",
    "            rmin = np.abs(np.amin(rs))\n",
    "            if rmax > rmin:\n",
    "                raw_map[i + raw1.shape[0] + 1, j, :] = float_to_rgb(rmax, [1.0, 1.0, 1.0], [1.0, 0.0, 0.0])\n",
    "            else:\n",
    "                raw_map[i + raw1.shape[0] + 1, j, :] = float_to_rgb(rmin, [1.0, 1.0, 1.0], [0.0, 0.0, 1.0])\n",
    "                \n",
    "    ax.imshow(raw_map)\n",
    "    ax.set_title(title)\n",
    "\n",
    "def plot_ns_exp(nsid: int, start_exp_index: int, offset: int):\n",
    "    title = f'NS {nsid} - Exp {start_exp_index}'\n",
    "    nb_col_plt = 4\n",
    "    nb_row_plt = 3 * 8\n",
    "    fig, axs = plt.subplots(nb_row_plt, nb_col_plt, num=title, figsize=(20, 2 * nb_row_plt), constrained_layout=True)\n",
    "\n",
    "    map8 = np.array([[1,0],[0,1],[1,1],[1,2],[2,2],[2,1],[3,1],[2,0]])\n",
    "    elecs = [nsid*8+i for i in range(8)]\n",
    "\n",
    "    fig.suptitle(title)\n",
    "    raw1 = load_raw_data(f'{dirPath}/exp_{start_exp_index}_0_{offset}.npz')\n",
    "    raw2 = load_raw_data(f'{dirPath}/exp_{start_exp_index}_1_{offset}.npz')\n",
    "\n",
    "    for j in range(8):\n",
    "        for i,elec in enumerate(elecs):\n",
    "            if i==j:\n",
    "                title_elec = f'Electrode {elec}*'\n",
    "            else:\n",
    "                title_elec = f'Electrode {elec}'\n",
    "            subplot_raw_map(axs[map8[i,1] + j * 3,map8[i,0]], raw1[j][:, elec-32, :], raw2[j][:, elec-32, :], title_elec)\n",
    "\n",
    "        axs[j*3,0].axis('off')\n",
    "        axs[j*3,-1].axis('off')\n",
    "        axs[j*3+2,0].axis('off')\n",
    "        axs[j*3+2,-1].axis('off')\n",
    "\n",
    "    for ax in axs.flat:\n",
    "        ax.set(xlabel='ms', ylabel='Exp')\n",
    "    for ax in axs.flat:\n",
    "        ax.label_outer()"
   ]
  },
  {
   "cell_type": "code",
   "execution_count": null,
   "id": "06bd0822-1638-4f3c-9f34-131407323a37",
   "metadata": {},
   "outputs": [],
   "source": [
    "plot_ns_exp(4, 0, offset_trigger_ms)"
   ]
  },
  {
   "cell_type": "code",
   "execution_count": null,
   "id": "d8b23428-5245-4d6e-a0ec-3f7433bcb42e",
   "metadata": {},
   "outputs": [],
   "source": [
    "plot_ns_exp(5, 0, offset_trigger_ms)"
   ]
  },
  {
   "cell_type": "code",
   "execution_count": null,
   "id": "9a5cea9d-ffa2-4d05-8072-7fb61979fc24",
   "metadata": {},
   "outputs": [],
   "source": [
    "plot_ns_exp(6, 0, offset_trigger_ms)"
   ]
  },
  {
   "cell_type": "code",
   "execution_count": null,
   "id": "db69053f-7f90-49a7-b783-6a79e8033d65",
   "metadata": {},
   "outputs": [],
   "source": [
    "plot_ns_exp(7, 0, offset_trigger_ms)"
   ]
  },
  {
   "cell_type": "code",
   "execution_count": null,
   "id": "8e4a5609-c6c9-400b-bc87-e538f5f97845",
   "metadata": {},
   "outputs": [],
   "source": [
    "plot_ns_exp(8, 0, offset_trigger_ms)"
   ]
  },
  {
   "cell_type": "code",
   "execution_count": null,
   "id": "a389bd31-82f3-4b48-a813-e35e4fe2eaef",
   "metadata": {},
   "outputs": [],
   "source": [
    "plot_ns_exp(4, 1, offset_trigger_ms)"
   ]
  },
  {
   "cell_type": "code",
   "execution_count": null,
   "id": "8d525e79-d647-4732-86fc-04e4043db440",
   "metadata": {},
   "outputs": [],
   "source": [
    "plot_ns_exp(4, 2, offset_trigger_ms)"
   ]
  }
 ],
 "metadata": {
  "kernelspec": {
   "display_name": "Python 3 (ipykernel)",
   "language": "python",
   "name": "python3"
  },
  "language_info": {
   "codemirror_mode": {
    "name": "ipython",
    "version": 3
   },
   "file_extension": ".py",
   "mimetype": "text/x-python",
   "name": "python",
   "nbconvert_exporter": "python",
   "pygments_lexer": "ipython3",
   "version": "3.10.12"
  }
 },
 "nbformat": 4,
 "nbformat_minor": 5
}
