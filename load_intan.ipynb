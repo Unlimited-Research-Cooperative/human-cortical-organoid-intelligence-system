{
 "cells": [
  {
   "cell_type": "code",
   "execution_count": null,
   "id": "fa42982b-6542-4e59-a0b0-61bd9c7c99a5",
   "metadata": {},
   "outputs": [],
   "source": []
  },
  {
   "cell_type": "code",
   "execution_count": 1,
   "id": "f0070b3f-7d9b-41a2-95c7-df5590cd70ee",
   "metadata": {},
   "outputs": [
    {
     "data": {
      "text/plain": [
       "'\\nconn = psycopg2.connect(database=\"fsexp\",\\n                        host=\"172.30.2.184\",\\n                        user=\"postgres\",\\n                        password=\"6Fd9d8P7KixkPA\",\\n                        port=\"5432\")\\ncursor = conn.cursor()\\ntokenRead = \"4voZq4pLkjT4rpAvsJMZgtc6xNrgWhXplnxfk9BycfBC-wpBDyvAxaBisrzaSBdB1ILXsq19l4bptacrgPzpmQ==\"\\nclienRead = InfluxDBClient(url=\"http://spikedb.alpvision.com:8086\", token=tokenRead, timeout=60_000)\\nquery_api = clienRead.query_api()'"
      ]
     },
     "execution_count": 1,
     "metadata": {},
     "output_type": "execute_result"
    }
   ],
   "source": [
    "import socket\n",
    "import numpy as np\n",
    "import time\n",
    "import psycopg2\n",
    "from influxdb_client import InfluxDBClient\n",
    "import warnings\n",
    "from influxdb_client.client.warnings import MissingPivotFunction\n",
    "warnings.simplefilter(\"ignore\", MissingPivotFunction)\n",
    "from datetime import datetime, timedelta\n",
    "from tqdm import tqdm\n",
    "import matplotlib.pyplot as plt\n",
    "import matplotlib\n",
    "matplotlib.rc_file_defaults()\n",
    "def figure(name, *args, **kwargs):\n",
    "    plt.close(name)\n",
    "    return plt.figure(name, *args, **kwargs)\n",
    "from matplotlib.colors import ListedColormap\n",
    "colorblindmap = ListedColormap(['#006BA4', '#FF800E', '#ABABAB', '#595959', '#5F9ED1', '#C85200', '#898989', '#A2C8EC', '#FFBC79', '#CFCFCF'])\n",
    "\n",
    "'''\n",
    "conn = psycopg2.connect(database=\"fsexp\",\n",
    "                        host=\"172.30.2.184\",\n",
    "                        user=\"postgres\",\n",
    "                        password=\"6Fd9d8P7KixkPA\",\n",
    "                        port=\"5432\")\n",
    "cursor = conn.cursor()\n",
    "tokenRead = \"4voZq4pLkjT4rpAvsJMZgtc6xNrgWhXplnxfk9BycfBC-wpBDyvAxaBisrzaSBdB1ILXsq19l4bptacrgPzpmQ==\"\n",
    "clienRead = InfluxDBClient(url=\"http://spikedb.alpvision.com:8086\", token=tokenRead, timeout=60_000)\n",
    "query_api = clienRead.query_api()'''"
   ]
  },
  {
   "cell_type": "code",
   "execution_count": 2,
   "id": "779565f4-cb20-480c-acad-4afa6f2efd16",
   "metadata": {},
   "outputs": [],
   "source": []
  },
  {
   "cell_type": "code",
   "execution_count": 3,
   "id": "73454efd-670a-4d36-8780-ed0b0f403883",
   "metadata": {},
   "outputs": [],
   "source": [
    "import os\n",
    "import glob\n",
    "import sys\n",
    "sys.path.append('/home/vincent/Downloads/load_intan_rhs_format/')\n",
    "from load_intan_rhs_format import read_data\n",
    "\n",
    "def raw_data_100ms(filename: str, offset_ms: int):\n",
    "    nb_sample = 3000 # 100ms\n",
    "    offset = 30*offset_ms\n",
    "    rawdatas = read_data(filename)\n",
    "    digin = rawdatas['spike_triggers']\n",
    "    triggers_raw = np.argwhere(digin)\n",
    "    raw_amp = rawdatas['amplifier_data']\n",
    "    triggers = [triggers_raw[0, :]]\n",
    "    for i in range(triggers_raw.shape[0]-1):\n",
    "        t1 = triggers_raw[i,0]\n",
    "        t2 = triggers_raw[i+1,0]\n",
    "        if t2-t1 > 100:\n",
    "            triggers.append(triggers_raw[i+1,:])\n",
    "    \n",
    "    raws100ms_trigger = {}\n",
    "    for i in range(8):\n",
    "        raws100ms_trigger[i] = []\n",
    "    for i in range(len(triggers)):\n",
    "        ind = triggers[i][0]\n",
    "        if ind+nb_sample<raw_amp.shape[1]:\n",
    "            raws100ms_trigger[int(triggers[i][0])].append(raw_amp[:,ind+offset:ind + nb_sample + offset])\n",
    "    for i in range(8):\n",
    "        raws100ms_trigger[i] = np.array(raws100ms_trigger[i])\n",
    "    return raws100ms_trigger\n",
    "\n",
    "def save_raw_data(raws: dict, filename: str):\n",
    "    np.savez_compressed(filename, t0=raws[0],t1=raws[1],t2=raws[2],t3=raws[3],t4=raws[4],t5=raws[5],t6=raws[6],t7=raws[7])\n",
    "\n",
    "def load_raw_data(filename: str):\n",
    "    list_array = []\n",
    "    for i in range(8):\n",
    "        list_array.append(f't{i}')\n",
    "    \n",
    "    loaded = np.load(filename)\n",
    "    raws = {}\n",
    "    for i,aname in enumerate(list_array):\n",
    "        raws[i] = loaded[aname]\n",
    "    \n",
    "    return raws"
   ]
  },
  {
   "cell_type": "code",
   "execution_count": 4,
   "id": "1575ea43-a15f-4b09-9a2f-7dd3b10c4570",
   "metadata": {},
   "outputs": [
    {
     "name": "stdout",
     "output_type": "stream",
     "text": [
      "2\n"
     ]
    }
   ],
   "source": [
    "dirPath = 'experiment_data/'\n",
    "listFiles = filter(os.path.isfile,glob.glob(f'{dirPath}/*.rhs'))\n",
    "listFiles = sorted(listFiles, key=os.path.getmtime)\n",
    "print(len(listFiles))"
   ]
  },
  {
   "cell_type": "code",
   "execution_count": null,
   "id": "29313b88-aee5-4f71-9a5c-453cd248a24d",
   "metadata": {},
   "outputs": [],
   "source": []
  },
  {
   "cell_type": "code",
   "execution_count": 5,
   "id": "f67a4e79-8294-470e-a189-4a59600a7a0f",
   "metadata": {},
   "outputs": [
    {
     "name": "stdout",
     "output_type": "stream",
     "text": [
      "\n",
      "Reading Intan Technologies RHS Data File, Version 1.0\n",
      "\n",
      "Found 32 amplifier channels.\n",
      "Found 0 board ADC channels.\n",
      "Found 8 board DAC channels.\n",
      "Found 0 board digital input channels.\n",
      "Found 0 board digital output channels.\n",
      "\n"
     ]
    },
    {
     "ename": "FileSizeError",
     "evalue": "Something is wrong with file size : should have a whole number of data blocks",
     "output_type": "error",
     "traceback": [
      "\u001b[0;31m---------------------------------------------------------------------------\u001b[0m",
      "\u001b[0;31mFileSizeError\u001b[0m                             Traceback (most recent call last)",
      "Cell \u001b[0;32mIn[5], line 4\u001b[0m\n\u001b[1;32m      2\u001b[0m \u001b[38;5;66;03m#for i,filename in enumerate(tqdm(listFiles)):\u001b[39;00m\n\u001b[1;32m      3\u001b[0m filename \u001b[38;5;241m=\u001b[39m dirPath \u001b[38;5;241m+\u001b[39m \u001b[38;5;124m'\u001b[39m\u001b[38;5;124mexp_240213_151732.rhs\u001b[39m\u001b[38;5;124m'\u001b[39m\n\u001b[0;32m----> 4\u001b[0m r \u001b[38;5;241m=\u001b[39m \u001b[43mraw_data_100ms\u001b[49m\u001b[43m(\u001b[49m\u001b[43mfilename\u001b[49m\u001b[43m,\u001b[49m\u001b[43m \u001b[49m\u001b[43moffset_trigger_ms\u001b[49m\u001b[43m)\u001b[49m\n\u001b[1;32m      5\u001b[0m \u001b[38;5;66;03m#savename = dirPath + f'/exp_{i//2}_{i%2}_{offset_trigger_ms}.npz'\u001b[39;00m\n\u001b[1;32m      6\u001b[0m savename \u001b[38;5;241m=\u001b[39m dirPath \u001b[38;5;241m+\u001b[39m \u001b[38;5;124mf\u001b[39m\u001b[38;5;124m'\u001b[39m\u001b[38;5;124m/exp_0_0_\u001b[39m\u001b[38;5;132;01m{\u001b[39;00moffset_trigger_ms\u001b[38;5;132;01m}\u001b[39;00m\u001b[38;5;124m.npz\u001b[39m\u001b[38;5;124m'\u001b[39m\n",
      "Cell \u001b[0;32mIn[3], line 10\u001b[0m, in \u001b[0;36mraw_data_100ms\u001b[0;34m(filename, offset_ms)\u001b[0m\n\u001b[1;32m      8\u001b[0m nb_sample \u001b[38;5;241m=\u001b[39m \u001b[38;5;241m3000\u001b[39m \u001b[38;5;66;03m# 100ms\u001b[39;00m\n\u001b[1;32m      9\u001b[0m offset \u001b[38;5;241m=\u001b[39m \u001b[38;5;241m30\u001b[39m\u001b[38;5;241m*\u001b[39moffset_ms\n\u001b[0;32m---> 10\u001b[0m rawdatas \u001b[38;5;241m=\u001b[39m \u001b[43mread_data\u001b[49m\u001b[43m(\u001b[49m\u001b[43mfilename\u001b[49m\u001b[43m)\u001b[49m\n\u001b[1;32m     11\u001b[0m digin \u001b[38;5;241m=\u001b[39m rawdatas[\u001b[38;5;124m'\u001b[39m\u001b[38;5;124mspike_triggers\u001b[39m\u001b[38;5;124m'\u001b[39m]\n\u001b[1;32m     12\u001b[0m triggers_raw \u001b[38;5;241m=\u001b[39m np\u001b[38;5;241m.\u001b[39margwhere(digin)\n",
      "File \u001b[0;32m~/Downloads/load_intan_rhs_format/load_intan_rhs_format.py:41\u001b[0m, in \u001b[0;36mread_data\u001b[0;34m(filename)\u001b[0m\n\u001b[1;32m     37\u001b[0m header \u001b[38;5;241m=\u001b[39m read_header(fid)\n\u001b[1;32m     39\u001b[0m \u001b[38;5;66;03m# Calculate how much data is present and summarize to console.\u001b[39;00m\n\u001b[1;32m     40\u001b[0m data_present, filesize, num_blocks, num_samples \u001b[38;5;241m=\u001b[39m (\n\u001b[0;32m---> 41\u001b[0m     \u001b[43mcalculate_data_size\u001b[49m\u001b[43m(\u001b[49m\u001b[43mheader\u001b[49m\u001b[43m,\u001b[49m\u001b[43m \u001b[49m\u001b[43mfilename\u001b[49m\u001b[43m,\u001b[49m\u001b[43m \u001b[49m\u001b[43mfid\u001b[49m\u001b[43m)\u001b[49m)\n\u001b[1;32m     43\u001b[0m \u001b[38;5;66;03m# If .rhs file contains data, read all present data blocks into 'data'\u001b[39;00m\n\u001b[1;32m     44\u001b[0m \u001b[38;5;66;03m# dict, and verify the amount of data read.\u001b[39;00m\n\u001b[1;32m     45\u001b[0m \u001b[38;5;28mprint\u001b[39m(\u001b[38;5;124m'\u001b[39m\u001b[38;5;124mFINISHED HEADER\u001b[39m\u001b[38;5;124m'\u001b[39m)\n",
      "File \u001b[0;32m~/Downloads/load_intan_rhs_format/intanutil/data.py:34\u001b[0m, in \u001b[0;36mcalculate_data_size\u001b[0;34m(header, filename, fid)\u001b[0m\n\u001b[1;32m     32\u001b[0m \u001b[38;5;66;03m# If the file size is somehow different than expected, raise an error.\u001b[39;00m\n\u001b[1;32m     33\u001b[0m \u001b[38;5;28;01mif\u001b[39;00m bytes_remaining \u001b[38;5;241m%\u001b[39m bytes_per_block \u001b[38;5;241m!=\u001b[39m \u001b[38;5;241m0\u001b[39m:\n\u001b[0;32m---> 34\u001b[0m     \u001b[38;5;28;01mraise\u001b[39;00m FileSizeError(\n\u001b[1;32m     35\u001b[0m         \u001b[38;5;124m'\u001b[39m\u001b[38;5;124mSomething is wrong with file size : \u001b[39m\u001b[38;5;124m'\u001b[39m\n\u001b[1;32m     36\u001b[0m         \u001b[38;5;124m'\u001b[39m\u001b[38;5;124mshould have a whole number of data blocks\u001b[39m\u001b[38;5;124m'\u001b[39m)\n\u001b[1;32m     38\u001b[0m \u001b[38;5;66;03m# Calculate how many data blocks are present.\u001b[39;00m\n\u001b[1;32m     39\u001b[0m num_blocks \u001b[38;5;241m=\u001b[39m \u001b[38;5;28mint\u001b[39m(bytes_remaining \u001b[38;5;241m/\u001b[39m bytes_per_block)\n",
      "\u001b[0;31mFileSizeError\u001b[0m: Something is wrong with file size : should have a whole number of data blocks"
     ]
    }
   ],
   "source": [
    "offset_trigger_ms = 5\n",
    "#for i,filename in enumerate(tqdm(listFiles)):\n",
    "filename = dirPath + 'exp_240213_151732.rhs'\n",
    "r = raw_data_100ms(filename, offset_trigger_ms)\n",
    "#savename = dirPath + f'/exp_{i//2}_{i%2}_{offset_trigger_ms}.npz'\n",
    "savename = dirPath + f'/exp_0_0_{offset_trigger_ms}.npz'\n",
    "save_raw_data(r, savename)"
   ]
  },
  {
   "cell_type": "code",
   "execution_count": null,
   "id": "a5871aad-265a-4f8f-a8e9-841c5953e42e",
   "metadata": {},
   "outputs": [],
   "source": []
  },
  {
   "cell_type": "code",
   "execution_count": null,
   "id": "0fe9dd81-97f6-41b4-805f-716befa26609",
   "metadata": {},
   "outputs": [],
   "source": [
    "matplotlib.rc_file_defaults()\n",
    "\n",
    "\n",
    "def float_to_rgb(val: float, start_rgb: np.array, end_rgb: np.array):\n",
    "    r_diff = end_rgb[0] - start_rgb[0]\n",
    "    g_diff = end_rgb[1] - start_rgb[1]\n",
    "    b_diff = end_rgb[2] - start_rgb[2]\n",
    "    return [start_rgb[0] + val * r_diff, start_rgb[1] + val * g_diff, start_rgb[2] + val * b_diff]\n",
    "    \n",
    "def subplot_raw_map(ax: plt.Axes, raw1: np.array, raw2: np.array, title: str):\n",
    "    if raw1.shape[1] != raw2.shape[1]:\n",
    "        print(f'Error shape raw1/raw2')\n",
    "    sampling = 30\n",
    "    nb_points = raw1.shape[1] // sampling\n",
    "    raw_map = np.ones((raw1.shape[0] + 1 + raw2.shape[0], nb_points, 3))\n",
    "    MAXAMP = 100\n",
    "    r1 = raw1/MAXAMP\n",
    "    r1[r1 > 1.0] = 1.0\n",
    "    r1[r1 < -1.0] = -1.0\n",
    "    r2 = raw2/MAXAMP\n",
    "    r2[r2 > 1.0] = 1.0\n",
    "    r2[r2 < -1.0] = -1.0\n",
    "    \n",
    "    for i in range(raw1.shape[0]):\n",
    "        for j in range(nb_points):\n",
    "            rs = r1[i,j*sampling:j*sampling+sampling]\n",
    "            rmax = np.abs(np.amax(rs))\n",
    "            rmin = np.abs(np.amin(rs))\n",
    "            if rmax > rmin:\n",
    "                raw_map[i, j, :] = float_to_rgb(rmax, [1.0, 1.0, 1.0], [1.0, 0.0, 0.0])\n",
    "            else:\n",
    "                raw_map[i, j, :] = float_to_rgb(rmin, [1.0, 1.0, 1.0], [0.0, 0.0, 1.0])\n",
    "\n",
    "    # line\n",
    "    raw_map[raw1.shape[0], :, :] = 0.0\n",
    "    \n",
    "    for i in range(raw2.shape[0]):\n",
    "        for j in range(nb_points):\n",
    "            rs = r2[i,j*sampling:j*sampling+sampling]\n",
    "            rmax = np.abs(np.amax(rs))\n",
    "            rmin = np.abs(np.amin(rs))\n",
    "            if rmax > rmin:\n",
    "                raw_map[i + raw1.shape[0] + 1, j, :] = float_to_rgb(rmax, [1.0, 1.0, 1.0], [1.0, 0.0, 0.0])\n",
    "            else:\n",
    "                raw_map[i + raw1.shape[0] + 1, j, :] = float_to_rgb(rmin, [1.0, 1.0, 1.0], [0.0, 0.0, 1.0])\n",
    "                \n",
    "    ax.imshow(raw_map)\n",
    "    ax.set_title(title)\n",
    "\n",
    "def plot_ns_exp(nsid: int, start_exp_index: int, offset: int):\n",
    "    title = f'NS {nsid} - Exp {start_exp_index}'\n",
    "    nb_col_plt = 4\n",
    "    nb_row_plt = 3 * 8\n",
    "    fig, axs = plt.subplots(nb_row_plt, nb_col_plt, num=title, figsize=(20, 2 * nb_row_plt), constrained_layout=True)\n",
    "\n",
    "    map8 = np.array([[1,0],[0,1],[1,1],[1,2],[2,2],[2,1],[3,1],[2,0]])\n",
    "    elecs = [nsid*8+i for i in range(8)]\n",
    "\n",
    "    fig.suptitle(title)\n",
    "    raw1 = load_raw_data(f'{dirPath}/exp_{start_exp_index}_0_{offset}.npz')\n",
    "    raw2 = load_raw_data(f'{dirPath}/exp_{start_exp_index}_1_{offset}.npz')\n",
    "\n",
    "    for j in range(8):\n",
    "        for i,elec in enumerate(elecs):\n",
    "            if i==j:\n",
    "                title_elec = f'Electrode {elec}*'\n",
    "            else:\n",
    "                title_elec = f'Electrode {elec}'\n",
    "            subplot_raw_map(axs[map8[i,1] + j * 3,map8[i,0]], raw1[j][:, elec-32, :], raw2[j][:, elec-32, :], title_elec)\n",
    "\n",
    "        axs[j*3,0].axis('off')\n",
    "        axs[j*3,-1].axis('off')\n",
    "        axs[j*3+2,0].axis('off')\n",
    "        axs[j*3+2,-1].axis('off')\n",
    "\n",
    "    for ax in axs.flat:\n",
    "        ax.set(xlabel='ms', ylabel='Exp')\n",
    "    for ax in axs.flat:\n",
    "        ax.label_outer()"
   ]
  },
  {
   "cell_type": "code",
   "execution_count": null,
   "id": "ace735d8-8a75-4ea1-8805-fbdb357101c3",
   "metadata": {},
   "outputs": [],
   "source": []
  },
  {
   "cell_type": "code",
   "execution_count": null,
   "id": "e3fff4fa-d913-4eda-a85b-b5d520b2b529",
   "metadata": {},
   "outputs": [],
   "source": []
  },
  {
   "cell_type": "code",
   "execution_count": null,
   "id": "c09f631b-4ecf-4d3b-b38d-cccde8825844",
   "metadata": {},
   "outputs": [],
   "source": []
  },
  {
   "cell_type": "code",
   "execution_count": null,
   "id": "9ba10bce-b4f5-4127-8996-99d172c4e604",
   "metadata": {},
   "outputs": [],
   "source": []
  },
  {
   "cell_type": "code",
   "execution_count": null,
   "id": "0142f99b-fddb-4479-9e1e-21f8a5815336",
   "metadata": {},
   "outputs": [],
   "source": []
  }
 ],
 "metadata": {
  "kernelspec": {
   "display_name": "Python 3 (ipykernel)",
   "language": "python",
   "name": "python3"
  },
  "language_info": {
   "codemirror_mode": {
    "name": "ipython",
    "version": 3
   },
   "file_extension": ".py",
   "mimetype": "text/x-python",
   "name": "python",
   "nbconvert_exporter": "python",
   "pygments_lexer": "ipython3",
   "version": "3.10.12"
  }
 },
 "nbformat": 4,
 "nbformat_minor": 5
}
